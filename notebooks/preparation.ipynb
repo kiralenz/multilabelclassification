{
 "cells": [
  {
   "cell_type": "markdown",
   "id": "deddd69d-83e1-4be3-ab16-beb1d300612c",
   "metadata": {},
   "source": [
    "# Utils"
   ]
  },
  {
   "cell_type": "code",
   "execution_count": 1,
   "id": "0d139cdb-92eb-49dd-993d-e26928c66da9",
   "metadata": {},
   "outputs": [],
   "source": [
    "import pandas as pd"
   ]
  },
  {
   "cell_type": "code",
   "execution_count": 2,
   "id": "f4acc5fb-bec9-467c-87f4-bc1d6a3e1735",
   "metadata": {},
   "outputs": [],
   "source": [
    "%load_ext blackcellmagic"
   ]
  },
  {
   "cell_type": "markdown",
   "id": "e3850695-e8e9-447c-99ad-73bd9050c416",
   "metadata": {},
   "source": [
    "# Processing"
   ]
  },
  {
   "cell_type": "code",
   "execution_count": 3,
   "id": "c8e4b47a-6d1b-4fb7-a3c3-9f2e0618681d",
   "metadata": {},
   "outputs": [],
   "source": [
    "test = pd.read_csv('../data/zipcode_test.csv')"
   ]
  },
  {
   "cell_type": "code",
   "execution_count": 4,
   "id": "53ccf0d5-e7f4-4b87-80d6-f805b46d1f40",
   "metadata": {},
   "outputs": [],
   "source": [
    "train = pd.read_csv('../data/zipcode_train.csv')"
   ]
  },
  {
   "cell_type": "code",
   "execution_count": 5,
   "id": "1d210a89-3bda-4716-a600-a318c8983942",
   "metadata": {},
   "outputs": [],
   "source": [
    "columns = ['a', 'b', 'c', 'd', 'e', 'f', 'g', 'h', 'i', 'j', 'k', 'l', 'm', 'n', 'o', 'p', 'q']"
   ]
  },
  {
   "cell_type": "code",
   "execution_count": 6,
   "id": "e4f8e2b3-8808-4b9d-ab56-770656b65e50",
   "metadata": {},
   "outputs": [],
   "source": [
    "train.columns = columns\n",
    "test.columns = columns"
   ]
  },
  {
   "cell_type": "code",
   "execution_count": 7,
   "id": "ddcf69ed-9ad4-4af2-8f6d-28968256d654",
   "metadata": {},
   "outputs": [],
   "source": [
    "df = pd.concat([test, train], axis=0, ignore_index=True)"
   ]
  },
  {
   "cell_type": "code",
   "execution_count": 8,
   "id": "659d7cb0-500c-4e51-907c-7f293296beb0",
   "metadata": {},
   "outputs": [],
   "source": [
    "# a is the imaginary target, here one means present and 0 means missing\n",
    "df.rename(columns={'a':'present'}, inplace=True)"
   ]
  },
  {
   "cell_type": "code",
   "execution_count": 9,
   "id": "5363aa06-683f-40a4-9e0e-68ac5d531769",
   "metadata": {},
   "outputs": [],
   "source": [
    "for column in ['b', 'c', 'd', 'e', 'f', 'g', 'h']:\n",
    "    df[column] = df[column].astype(str)"
   ]
  },
  {
   "cell_type": "code",
   "execution_count": 10,
   "id": "1a8f45f6-1302-4dae-aa29-b3baf8d01a76",
   "metadata": {},
   "outputs": [],
   "source": [
    "# creating an artificial article number\n",
    "df[\"article\"] = (\n",
    "    df[\"b\"] + df[\"c\"] + df[\"d\"] + df[\"e\"] + df[\"f\"] + df[\"g\"] + df[\"h\"]\n",
    ")"
   ]
  },
  {
   "cell_type": "code",
   "execution_count": 11,
   "id": "87f03d1f-2f5d-4a28-bb54-6a1db1f7a485",
   "metadata": {},
   "outputs": [],
   "source": [
    "df.drop(columns = ['b', 'c', 'd', 'e', 'f', 'g', 'h'], inplace=True)"
   ]
  },
  {
   "cell_type": "code",
   "execution_count": 12,
   "id": "4054c70d-0aea-4739-8be0-0ddf962d9364",
   "metadata": {},
   "outputs": [
    {
     "data": {
      "text/plain": [
       "(0.37, 63.9]      64\n",
       "(63.9, 126.8]      8\n",
       "(126.8, 189.7]     3\n",
       "(315.5, 378.4]     3\n",
       "(189.7, 252.6]     2\n",
       "(252.6, 315.5]     1\n",
       "(378.4, 441.3]     1\n",
       "(441.3, 504.2]     1\n",
       "(504.2, 567.1]     1\n",
       "(567.1, 630.0]     1\n",
       "dtype: int64"
      ]
     },
     "execution_count": 12,
     "metadata": {},
     "output_type": "execute_result"
    }
   ],
   "source": [
    "df.groupby(['article']).size().value_counts(bins=10)"
   ]
  },
  {
   "cell_type": "code",
   "execution_count": 13,
   "id": "affbddcf-9b28-46e7-8551-17cb8771d78c",
   "metadata": {},
   "outputs": [],
   "source": [
    "df.to_parquet('../data/processed/df.parquet')"
   ]
  },
  {
   "cell_type": "code",
   "execution_count": 14,
   "id": "d65c2164-b0f0-47e4-8bae-1674aea596b1",
   "metadata": {},
   "outputs": [],
   "source": [
    "df.to_csv('../data/processed/df.csv')"
   ]
  },
  {
   "cell_type": "code",
   "execution_count": null,
   "id": "097bfafb-a1f3-453f-bc7d-861368ea86b0",
   "metadata": {},
   "outputs": [],
   "source": []
  }
 ],
 "metadata": {
  "kernelspec": {
   "display_name": "Python 3 (ipykernel)",
   "language": "python",
   "name": "python3"
  },
  "language_info": {
   "codemirror_mode": {
    "name": "ipython",
    "version": 3
   },
   "file_extension": ".py",
   "mimetype": "text/x-python",
   "name": "python",
   "nbconvert_exporter": "python",
   "pygments_lexer": "ipython3",
   "version": "3.9.13"
  }
 },
 "nbformat": 4,
 "nbformat_minor": 5
}
